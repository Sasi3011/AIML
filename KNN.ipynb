{
  "cells": [
    {
      "cell_type": "markdown",
      "metadata": {
        "id": "view-in-github",
        "colab_type": "text"
      },
      "source": [
        "<a href=\"https://colab.research.google.com/github/Sasi3011/AIML/blob/main/KNN.ipynb\" target=\"_parent\"><img src=\"https://colab.research.google.com/assets/colab-badge.svg\" alt=\"Open In Colab\"/></a>"
      ]
    },
    {
      "cell_type": "code",
      "source": [
        "# Setup\n",
        "import pandas as pd\n",
        "import numpy as np\n",
        "\n",
        "from sklearn.model_selection import train_test_split\n",
        "from sklearn.metrics import accuracy_score, precision_score, recall_score, f1_score, roc_auc_score, confusion_matrix, classification_report, RocCurveDisplay\n",
        "\n",
        "import matplotlib.pyplot as plt\n",
        "\n",
        "# Load data\n",
        "data_path = \"dt_data.csv\"\n",
        "df = pd.read_csv(data_path)\n",
        "\n",
        "print(\"Shape:\", df.shape)\n",
        "df.head()"
      ],
      "metadata": {
        "id": "I1AtDOx5HMaI",
        "outputId": "e08b54a2-5d9d-4531-bf5a-66b3114074c1",
        "colab": {
          "base_uri": "https://localhost:8080/",
          "height": 243
        }
      },
      "execution_count": 1,
      "outputs": [
        {
          "output_type": "stream",
          "name": "stdout",
          "text": [
            "Shape: (800, 13)\n"
          ]
        },
        {
          "output_type": "execute_result",
          "data": {
            "text/plain": [
              "         f1        f2        f3        f4        f5        f6        f7  \\\n",
              "0  3.231818  3.342242  3.170904 -1.143316  1.118764 -0.461158  1.350986   \n",
              "1 -2.001479 -2.055830 -1.088576  2.311383  2.210255 -0.632016  0.213387   \n",
              "2  3.195935  1.768784  2.937066 -2.571942  1.367319  0.878246  3.710392   \n",
              "3  1.499780 -2.983864 -0.606378 -0.787348 -1.084954  1.572479  0.888036   \n",
              "4  1.338514 -0.559925  1.093819 -2.132901  0.932437  0.971042  2.602676   \n",
              "\n",
              "         f8        f9       f10       f11       f12  target  \n",
              "0 -4.232194 -1.952545  1.530323  1.783189  0.429053       0  \n",
              "1  0.132520 -1.839323 -1.319074  2.762408 -0.625631       1  \n",
              "2  2.330900  2.686562 -0.269503 -2.464667 -0.173651       0  \n",
              "3  0.494976  1.643795 -2.872902 -0.587353 -1.758593       0  \n",
              "4  1.660926  0.264757 -2.086844 -0.819115  0.269144       0  "
            ],
            "text/html": [
              "\n",
              "  <div id=\"df-b3bbe4a8-1de4-4f42-8b60-b51c879154c8\" class=\"colab-df-container\">\n",
              "    <div>\n",
              "<style scoped>\n",
              "    .dataframe tbody tr th:only-of-type {\n",
              "        vertical-align: middle;\n",
              "    }\n",
              "\n",
              "    .dataframe tbody tr th {\n",
              "        vertical-align: top;\n",
              "    }\n",
              "\n",
              "    .dataframe thead th {\n",
              "        text-align: right;\n",
              "    }\n",
              "</style>\n",
              "<table border=\"1\" class=\"dataframe\">\n",
              "  <thead>\n",
              "    <tr style=\"text-align: right;\">\n",
              "      <th></th>\n",
              "      <th>f1</th>\n",
              "      <th>f2</th>\n",
              "      <th>f3</th>\n",
              "      <th>f4</th>\n",
              "      <th>f5</th>\n",
              "      <th>f6</th>\n",
              "      <th>f7</th>\n",
              "      <th>f8</th>\n",
              "      <th>f9</th>\n",
              "      <th>f10</th>\n",
              "      <th>f11</th>\n",
              "      <th>f12</th>\n",
              "      <th>target</th>\n",
              "    </tr>\n",
              "  </thead>\n",
              "  <tbody>\n",
              "    <tr>\n",
              "      <th>0</th>\n",
              "      <td>3.231818</td>\n",
              "      <td>3.342242</td>\n",
              "      <td>3.170904</td>\n",
              "      <td>-1.143316</td>\n",
              "      <td>1.118764</td>\n",
              "      <td>-0.461158</td>\n",
              "      <td>1.350986</td>\n",
              "      <td>-4.232194</td>\n",
              "      <td>-1.952545</td>\n",
              "      <td>1.530323</td>\n",
              "      <td>1.783189</td>\n",
              "      <td>0.429053</td>\n",
              "      <td>0</td>\n",
              "    </tr>\n",
              "    <tr>\n",
              "      <th>1</th>\n",
              "      <td>-2.001479</td>\n",
              "      <td>-2.055830</td>\n",
              "      <td>-1.088576</td>\n",
              "      <td>2.311383</td>\n",
              "      <td>2.210255</td>\n",
              "      <td>-0.632016</td>\n",
              "      <td>0.213387</td>\n",
              "      <td>0.132520</td>\n",
              "      <td>-1.839323</td>\n",
              "      <td>-1.319074</td>\n",
              "      <td>2.762408</td>\n",
              "      <td>-0.625631</td>\n",
              "      <td>1</td>\n",
              "    </tr>\n",
              "    <tr>\n",
              "      <th>2</th>\n",
              "      <td>3.195935</td>\n",
              "      <td>1.768784</td>\n",
              "      <td>2.937066</td>\n",
              "      <td>-2.571942</td>\n",
              "      <td>1.367319</td>\n",
              "      <td>0.878246</td>\n",
              "      <td>3.710392</td>\n",
              "      <td>2.330900</td>\n",
              "      <td>2.686562</td>\n",
              "      <td>-0.269503</td>\n",
              "      <td>-2.464667</td>\n",
              "      <td>-0.173651</td>\n",
              "      <td>0</td>\n",
              "    </tr>\n",
              "    <tr>\n",
              "      <th>3</th>\n",
              "      <td>1.499780</td>\n",
              "      <td>-2.983864</td>\n",
              "      <td>-0.606378</td>\n",
              "      <td>-0.787348</td>\n",
              "      <td>-1.084954</td>\n",
              "      <td>1.572479</td>\n",
              "      <td>0.888036</td>\n",
              "      <td>0.494976</td>\n",
              "      <td>1.643795</td>\n",
              "      <td>-2.872902</td>\n",
              "      <td>-0.587353</td>\n",
              "      <td>-1.758593</td>\n",
              "      <td>0</td>\n",
              "    </tr>\n",
              "    <tr>\n",
              "      <th>4</th>\n",
              "      <td>1.338514</td>\n",
              "      <td>-0.559925</td>\n",
              "      <td>1.093819</td>\n",
              "      <td>-2.132901</td>\n",
              "      <td>0.932437</td>\n",
              "      <td>0.971042</td>\n",
              "      <td>2.602676</td>\n",
              "      <td>1.660926</td>\n",
              "      <td>0.264757</td>\n",
              "      <td>-2.086844</td>\n",
              "      <td>-0.819115</td>\n",
              "      <td>0.269144</td>\n",
              "      <td>0</td>\n",
              "    </tr>\n",
              "  </tbody>\n",
              "</table>\n",
              "</div>\n",
              "    <div class=\"colab-df-buttons\">\n",
              "\n",
              "  <div class=\"colab-df-container\">\n",
              "    <button class=\"colab-df-convert\" onclick=\"convertToInteractive('df-b3bbe4a8-1de4-4f42-8b60-b51c879154c8')\"\n",
              "            title=\"Convert this dataframe to an interactive table.\"\n",
              "            style=\"display:none;\">\n",
              "\n",
              "  <svg xmlns=\"http://www.w3.org/2000/svg\" height=\"24px\" viewBox=\"0 -960 960 960\">\n",
              "    <path d=\"M120-120v-720h720v720H120Zm60-500h600v-160H180v160Zm220 220h160v-160H400v160Zm0 220h160v-160H400v160ZM180-400h160v-160H180v160Zm440 0h160v-160H620v160ZM180-180h160v-160H180v160Zm440 0h160v-160H620v160Z\"/>\n",
              "  </svg>\n",
              "    </button>\n",
              "\n",
              "  <style>\n",
              "    .colab-df-container {\n",
              "      display:flex;\n",
              "      gap: 12px;\n",
              "    }\n",
              "\n",
              "    .colab-df-convert {\n",
              "      background-color: #E8F0FE;\n",
              "      border: none;\n",
              "      border-radius: 50%;\n",
              "      cursor: pointer;\n",
              "      display: none;\n",
              "      fill: #1967D2;\n",
              "      height: 32px;\n",
              "      padding: 0 0 0 0;\n",
              "      width: 32px;\n",
              "    }\n",
              "\n",
              "    .colab-df-convert:hover {\n",
              "      background-color: #E2EBFA;\n",
              "      box-shadow: 0px 1px 2px rgba(60, 64, 67, 0.3), 0px 1px 3px 1px rgba(60, 64, 67, 0.15);\n",
              "      fill: #174EA6;\n",
              "    }\n",
              "\n",
              "    .colab-df-buttons div {\n",
              "      margin-bottom: 4px;\n",
              "    }\n",
              "\n",
              "    [theme=dark] .colab-df-convert {\n",
              "      background-color: #3B4455;\n",
              "      fill: #D2E3FC;\n",
              "    }\n",
              "\n",
              "    [theme=dark] .colab-df-convert:hover {\n",
              "      background-color: #434B5C;\n",
              "      box-shadow: 0px 1px 3px 1px rgba(0, 0, 0, 0.15);\n",
              "      filter: drop-shadow(0px 1px 2px rgba(0, 0, 0, 0.3));\n",
              "      fill: #FFFFFF;\n",
              "    }\n",
              "  </style>\n",
              "\n",
              "    <script>\n",
              "      const buttonEl =\n",
              "        document.querySelector('#df-b3bbe4a8-1de4-4f42-8b60-b51c879154c8 button.colab-df-convert');\n",
              "      buttonEl.style.display =\n",
              "        google.colab.kernel.accessAllowed ? 'block' : 'none';\n",
              "\n",
              "      async function convertToInteractive(key) {\n",
              "        const element = document.querySelector('#df-b3bbe4a8-1de4-4f42-8b60-b51c879154c8');\n",
              "        const dataTable =\n",
              "          await google.colab.kernel.invokeFunction('convertToInteractive',\n",
              "                                                    [key], {});\n",
              "        if (!dataTable) return;\n",
              "\n",
              "        const docLinkHtml = 'Like what you see? Visit the ' +\n",
              "          '<a target=\"_blank\" href=https://colab.research.google.com/notebooks/data_table.ipynb>data table notebook</a>'\n",
              "          + ' to learn more about interactive tables.';\n",
              "        element.innerHTML = '';\n",
              "        dataTable['output_type'] = 'display_data';\n",
              "        await google.colab.output.renderOutput(dataTable, element);\n",
              "        const docLink = document.createElement('div');\n",
              "        docLink.innerHTML = docLinkHtml;\n",
              "        element.appendChild(docLink);\n",
              "      }\n",
              "    </script>\n",
              "  </div>\n",
              "\n",
              "\n",
              "    <div id=\"df-165be026-8c79-464b-ad5c-4a386eb18768\">\n",
              "      <button class=\"colab-df-quickchart\" onclick=\"quickchart('df-165be026-8c79-464b-ad5c-4a386eb18768')\"\n",
              "                title=\"Suggest charts\"\n",
              "                style=\"display:none;\">\n",
              "\n",
              "<svg xmlns=\"http://www.w3.org/2000/svg\" height=\"24px\"viewBox=\"0 0 24 24\"\n",
              "     width=\"24px\">\n",
              "    <g>\n",
              "        <path d=\"M19 3H5c-1.1 0-2 .9-2 2v14c0 1.1.9 2 2 2h14c1.1 0 2-.9 2-2V5c0-1.1-.9-2-2-2zM9 17H7v-7h2v7zm4 0h-2V7h2v10zm4 0h-2v-4h2v4z\"/>\n",
              "    </g>\n",
              "</svg>\n",
              "      </button>\n",
              "\n",
              "<style>\n",
              "  .colab-df-quickchart {\n",
              "      --bg-color: #E8F0FE;\n",
              "      --fill-color: #1967D2;\n",
              "      --hover-bg-color: #E2EBFA;\n",
              "      --hover-fill-color: #174EA6;\n",
              "      --disabled-fill-color: #AAA;\n",
              "      --disabled-bg-color: #DDD;\n",
              "  }\n",
              "\n",
              "  [theme=dark] .colab-df-quickchart {\n",
              "      --bg-color: #3B4455;\n",
              "      --fill-color: #D2E3FC;\n",
              "      --hover-bg-color: #434B5C;\n",
              "      --hover-fill-color: #FFFFFF;\n",
              "      --disabled-bg-color: #3B4455;\n",
              "      --disabled-fill-color: #666;\n",
              "  }\n",
              "\n",
              "  .colab-df-quickchart {\n",
              "    background-color: var(--bg-color);\n",
              "    border: none;\n",
              "    border-radius: 50%;\n",
              "    cursor: pointer;\n",
              "    display: none;\n",
              "    fill: var(--fill-color);\n",
              "    height: 32px;\n",
              "    padding: 0;\n",
              "    width: 32px;\n",
              "  }\n",
              "\n",
              "  .colab-df-quickchart:hover {\n",
              "    background-color: var(--hover-bg-color);\n",
              "    box-shadow: 0 1px 2px rgba(60, 64, 67, 0.3), 0 1px 3px 1px rgba(60, 64, 67, 0.15);\n",
              "    fill: var(--button-hover-fill-color);\n",
              "  }\n",
              "\n",
              "  .colab-df-quickchart-complete:disabled,\n",
              "  .colab-df-quickchart-complete:disabled:hover {\n",
              "    background-color: var(--disabled-bg-color);\n",
              "    fill: var(--disabled-fill-color);\n",
              "    box-shadow: none;\n",
              "  }\n",
              "\n",
              "  .colab-df-spinner {\n",
              "    border: 2px solid var(--fill-color);\n",
              "    border-color: transparent;\n",
              "    border-bottom-color: var(--fill-color);\n",
              "    animation:\n",
              "      spin 1s steps(1) infinite;\n",
              "  }\n",
              "\n",
              "  @keyframes spin {\n",
              "    0% {\n",
              "      border-color: transparent;\n",
              "      border-bottom-color: var(--fill-color);\n",
              "      border-left-color: var(--fill-color);\n",
              "    }\n",
              "    20% {\n",
              "      border-color: transparent;\n",
              "      border-left-color: var(--fill-color);\n",
              "      border-top-color: var(--fill-color);\n",
              "    }\n",
              "    30% {\n",
              "      border-color: transparent;\n",
              "      border-left-color: var(--fill-color);\n",
              "      border-top-color: var(--fill-color);\n",
              "      border-right-color: var(--fill-color);\n",
              "    }\n",
              "    40% {\n",
              "      border-color: transparent;\n",
              "      border-right-color: var(--fill-color);\n",
              "      border-top-color: var(--fill-color);\n",
              "    }\n",
              "    60% {\n",
              "      border-color: transparent;\n",
              "      border-right-color: var(--fill-color);\n",
              "    }\n",
              "    80% {\n",
              "      border-color: transparent;\n",
              "      border-right-color: var(--fill-color);\n",
              "      border-bottom-color: var(--fill-color);\n",
              "    }\n",
              "    90% {\n",
              "      border-color: transparent;\n",
              "      border-bottom-color: var(--fill-color);\n",
              "    }\n",
              "  }\n",
              "</style>\n",
              "\n",
              "      <script>\n",
              "        async function quickchart(key) {\n",
              "          const quickchartButtonEl =\n",
              "            document.querySelector('#' + key + ' button');\n",
              "          quickchartButtonEl.disabled = true;  // To prevent multiple clicks.\n",
              "          quickchartButtonEl.classList.add('colab-df-spinner');\n",
              "          try {\n",
              "            const charts = await google.colab.kernel.invokeFunction(\n",
              "                'suggestCharts', [key], {});\n",
              "          } catch (error) {\n",
              "            console.error('Error during call to suggestCharts:', error);\n",
              "          }\n",
              "          quickchartButtonEl.classList.remove('colab-df-spinner');\n",
              "          quickchartButtonEl.classList.add('colab-df-quickchart-complete');\n",
              "        }\n",
              "        (() => {\n",
              "          let quickchartButtonEl =\n",
              "            document.querySelector('#df-165be026-8c79-464b-ad5c-4a386eb18768 button');\n",
              "          quickchartButtonEl.style.display =\n",
              "            google.colab.kernel.accessAllowed ? 'block' : 'none';\n",
              "        })();\n",
              "      </script>\n",
              "    </div>\n",
              "\n",
              "    </div>\n",
              "  </div>\n"
            ],
            "application/vnd.google.colaboratory.intrinsic+json": {
              "type": "dataframe",
              "variable_name": "df",
              "summary": "{\n  \"name\": \"df\",\n  \"rows\": 800,\n  \"fields\": [\n    {\n      \"column\": \"f1\",\n      \"properties\": {\n        \"dtype\": \"number\",\n        \"std\": 2.169905673612703,\n        \"min\": -6.795297293390489,\n        \"max\": 5.614111084945387,\n        \"num_unique_values\": 800,\n        \"samples\": [\n          -2.666488128718085,\n          -3.903008635199778,\n          3.5094371201238976\n        ],\n        \"semantic_type\": \"\",\n        \"description\": \"\"\n      }\n    },\n    {\n      \"column\": \"f2\",\n      \"properties\": {\n        \"dtype\": \"number\",\n        \"std\": 2.183722358082209,\n        \"min\": -6.65597812065588,\n        \"max\": 7.500863966659321,\n        \"num_unique_values\": 800,\n        \"samples\": [\n          1.918300773923773,\n          -0.604764091950659,\n          1.1232305807581249\n        ],\n        \"semantic_type\": \"\",\n        \"description\": \"\"\n      }\n    },\n    {\n      \"column\": \"f3\",\n      \"properties\": {\n        \"dtype\": \"number\",\n        \"std\": 1.8808513089484393,\n        \"min\": -4.332311405188373,\n        \"max\": 6.475740620778408,\n        \"num_unique_values\": 800,\n        \"samples\": [\n          2.5376884285914065,\n          -0.8175773157985159,\n          0.5883459981958291\n        ],\n        \"semantic_type\": \"\",\n        \"description\": \"\"\n      }\n    },\n    {\n      \"column\": \"f4\",\n      \"properties\": {\n        \"dtype\": \"number\",\n        \"std\": 1.833507702706764,\n        \"min\": -5.443320575787453,\n        \"max\": 4.991166228453655,\n        \"num_unique_values\": 800,\n        \"samples\": [\n          -0.4129412106966117,\n          -1.2098927455353847,\n          1.2330126976841618\n        ],\n        \"semantic_type\": \"\",\n        \"description\": \"\"\n      }\n    },\n    {\n      \"column\": \"f5\",\n      \"properties\": {\n        \"dtype\": \"number\",\n        \"std\": 1.9412774436563138,\n        \"min\": -6.88930403800447,\n        \"max\": 6.318779321442503,\n        \"num_unique_values\": 800,\n        \"samples\": [\n          -0.1043339528621225,\n          1.1815400333340085,\n          -1.3298465320315946\n        ],\n        \"semantic_type\": \"\",\n        \"description\": \"\"\n      }\n    },\n    {\n      \"column\": \"f6\",\n      \"properties\": {\n        \"dtype\": \"number\",\n        \"std\": 0.9900488917318038,\n        \"min\": -2.467158793704056,\n        \"max\": 3.6176973182850967,\n        \"num_unique_values\": 800,\n        \"samples\": [\n          0.4775239282770626,\n          0.9494521856690796,\n          1.5734383874846627\n        ],\n        \"semantic_type\": \"\",\n        \"description\": \"\"\n      }\n    },\n    {\n      \"column\": \"f7\",\n      \"properties\": {\n        \"dtype\": \"number\",\n        \"std\": 2.1369292355188305,\n        \"min\": -6.367210559039466,\n        \"max\": 5.397685877731148,\n        \"num_unique_values\": 800,\n        \"samples\": [\n          -2.031208229736389,\n          1.364464112716246,\n          -4.406360815629981\n        ],\n        \"semantic_type\": \"\",\n        \"description\": \"\"\n      }\n    },\n    {\n      \"column\": \"f8\",\n      \"properties\": {\n        \"dtype\": \"number\",\n        \"std\": 3.344602054618163,\n        \"min\": -10.637364366832768,\n        \"max\": 12.661192899211557,\n        \"num_unique_values\": 800,\n        \"samples\": [\n          1.2046311827943528,\n          6.109997806155125,\n          -6.845356177795665\n        ],\n        \"semantic_type\": \"\",\n        \"description\": \"\"\n      }\n    },\n    {\n      \"column\": \"f9\",\n      \"properties\": {\n        \"dtype\": \"number\",\n        \"std\": 1.9525454610699822,\n        \"min\": -4.463133415457385,\n        \"max\": 8.964891805568438,\n        \"num_unique_values\": 800,\n        \"samples\": [\n          1.8774847799162773,\n          0.1709845449823035,\n          2.340987838019882\n        ],\n        \"semantic_type\": \"\",\n        \"description\": \"\"\n      }\n    },\n    {\n      \"column\": \"f10\",\n      \"properties\": {\n        \"dtype\": \"number\",\n        \"std\": 4.109044645400687,\n        \"min\": -10.03985663298037,\n        \"max\": 15.165410186696985,\n        \"num_unique_values\": 800,\n        \"samples\": [\n          7.664228397862845,\n          2.9767676455637084,\n          5.122673803197167\n        ],\n        \"semantic_type\": \"\",\n        \"description\": \"\"\n      }\n    },\n    {\n      \"column\": \"f11\",\n      \"properties\": {\n        \"dtype\": \"number\",\n        \"std\": 1.8279216674769285,\n        \"min\": -4.277233014771313,\n        \"max\": 6.767845390373716,\n        \"num_unique_values\": 800,\n        \"samples\": [\n          0.5541567403779722,\n          1.4994784925713829,\n          3.430643393709348\n        ],\n        \"semantic_type\": \"\",\n        \"description\": \"\"\n      }\n    },\n    {\n      \"column\": \"f12\",\n      \"properties\": {\n        \"dtype\": \"number\",\n        \"std\": 0.993151822065495,\n        \"min\": -2.985309342699849,\n        \"max\": 3.0438681264191594,\n        \"num_unique_values\": 800,\n        \"samples\": [\n          0.4999046803028669,\n          1.138694887615377,\n          1.1404475303409485\n        ],\n        \"semantic_type\": \"\",\n        \"description\": \"\"\n      }\n    },\n    {\n      \"column\": \"target\",\n      \"properties\": {\n        \"dtype\": \"number\",\n        \"std\": 0,\n        \"min\": 0,\n        \"max\": 1,\n        \"num_unique_values\": 2,\n        \"samples\": [\n          1,\n          0\n        ],\n        \"semantic_type\": \"\",\n        \"description\": \"\"\n      }\n    }\n  ]\n}"
            }
          },
          "metadata": {},
          "execution_count": 1
        }
      ]
    },
    {
      "cell_type": "code",
      "source": [
        "# Basic EDA\n",
        "print(df.describe().T)\n",
        "print(\"\\nClass distribution:\\n\", df['target'].value_counts(normalize=True).rename('proportion'))\n"
      ],
      "metadata": {
        "id": "Tn1C4K_mSbaU",
        "outputId": "1293e359-b3cc-48bd-a0e6-a245660b5ad7",
        "colab": {
          "base_uri": "https://localhost:8080/"
        }
      },
      "execution_count": 2,
      "outputs": [
        {
          "output_type": "stream",
          "name": "stdout",
          "text": [
            "        count      mean       std        min       25%       50%       75%  \\\n",
            "f1      800.0  0.063440  2.169906  -6.795297 -1.418810  0.273335  1.671035   \n",
            "f2      800.0 -0.003246  2.183722  -6.655978 -1.574302 -0.053776  1.529525   \n",
            "f3      800.0  0.643789  1.880851  -4.332311 -0.626606  0.653578  1.964293   \n",
            "f4      800.0 -0.762459  1.833508  -5.443321 -1.970739 -0.776120  0.385978   \n",
            "f5      800.0 -0.029156  1.941277  -6.889304 -1.354848  0.084058  1.269699   \n",
            "f6      800.0 -0.035964  0.990049  -2.467159 -0.728794 -0.084972  0.650251   \n",
            "f7      800.0  0.099234  2.136929  -6.367211 -1.184647  0.366256  1.526186   \n",
            "f8      800.0  0.442011  3.344602 -10.637364 -1.561974  0.327103  2.349404   \n",
            "f9      800.0  0.706821  1.952545  -4.463133 -0.644132  0.752426  1.971816   \n",
            "f10     800.0  1.463012  4.109045 -10.039857 -1.602128  1.360284  4.333170   \n",
            "f11     800.0  0.505858  1.827922  -4.277233 -0.820524  0.531990  1.817336   \n",
            "f12     800.0  0.011642  0.993152  -2.985309 -0.636568  0.019712  0.653475   \n",
            "target  800.0  0.451250  0.497929   0.000000  0.000000  0.000000  1.000000   \n",
            "\n",
            "              max  \n",
            "f1       5.614111  \n",
            "f2       7.500864  \n",
            "f3       6.475741  \n",
            "f4       4.991166  \n",
            "f5       6.318779  \n",
            "f6       3.617697  \n",
            "f7       5.397686  \n",
            "f8      12.661193  \n",
            "f9       8.964892  \n",
            "f10     15.165410  \n",
            "f11      6.767845  \n",
            "f12      3.043868  \n",
            "target   1.000000  \n",
            "\n",
            "Class distribution:\n",
            " target\n",
            "0    0.54875\n",
            "1    0.45125\n",
            "Name: proportion, dtype: float64\n"
          ]
        }
      ]
    },
    {
      "cell_type": "code",
      "source": [
        "# Train/Validation split\n",
        "X = df.drop(columns=['target'])\n",
        "y = df['target']\n",
        "\n",
        "X_train, X_val, y_train, y_val = train_test_split(\n",
        "    X, y, test_size=0.2, random_state=123, stratify=y\n",
        ")\n",
        "\n",
        "X_train.shape, X_val.shape"
      ],
      "metadata": {
        "id": "Qtyqa8YgSfDM",
        "outputId": "20a7357e-be32-4a96-dcc7-667a72876b53",
        "colab": {
          "base_uri": "https://localhost:8080/"
        }
      },
      "execution_count": 3,
      "outputs": [
        {
          "output_type": "execute_result",
          "data": {
            "text/plain": [
              "((640, 12), (160, 12))"
            ]
          },
          "metadata": {},
          "execution_count": 3
        }
      ]
    },
    {
      "cell_type": "code",
      "source": [
        "# Train/Validation split\n",
        "X = df.drop(columns=['target'])\n",
        "y = df['target']\n",
        "\n",
        "X_train, X_val, y_train, y_val = train_test_split(\n",
        "    X, y, test_size=0.2, random_state=123, stratify=y\n",
        ")\n",
        "\n",
        "X_train.shape, X_val.shape"
      ],
      "metadata": {
        "id": "iwWCc0FUSkd-",
        "outputId": "e65a4696-be4f-490c-eb70-652a4c8a73c8",
        "colab": {
          "base_uri": "https://localhost:8080/"
        }
      },
      "execution_count": 4,
      "outputs": [
        {
          "output_type": "execute_result",
          "data": {
            "text/plain": [
              "((640, 12), (160, 12))"
            ]
          },
          "metadata": {},
          "execution_count": 4
        }
      ]
    },
    {
      "cell_type": "code",
      "source": [
        "# Decision Tree (no scaling needed)\n",
        "from sklearn.tree import DecisionTreeClassifier\n",
        "\n",
        "clf = DecisionTreeClassifier(\n",
        "    max_depth=6,\n",
        "    min_samples_split=10,\n",
        "    random_state=123\n",
        ")\n",
        "clf.fit(X_train, y_train)\n",
        "y_pred = clf.predict(X_val)\n",
        "# DecisionTreeClassifier supports predict_proba\n",
        "y_proba = clf.predict_proba(X_val)[:, 1]"
      ],
      "metadata": {
        "id": "8tTZwQWjSq3V"
      },
      "execution_count": 5,
      "outputs": []
    },
    {
      "cell_type": "code",
      "source": [
        "# Evaluation\n",
        "acc = accuracy_score(y_val, y_pred)\n",
        "prec = precision_score(y_val, y_pred)\n",
        "rec = recall_score(y_val, y_pred)\n",
        "f1 = f1_score(y_val, y_pred)\n",
        "auc = roc_auc_score(y_val, y_proba)\n",
        "\n",
        "print(f\"Accuracy : {acc:.3f}\")\n",
        "print(f\"Precision: {prec:.3f}\")\n",
        "print(f\"Recall   : {rec:.3f}\")\n",
        "print(f\"F1-score : {f1:.3f}\")\n",
        "print(f\"ROC AUC  : {auc:.3f}\")\n",
        "\n",
        "print(\"\\nClassification Report:\\n\", classification_report(y_val, y_pred))\n",
        "\n",
        "# Confusion matrix\n",
        "cm = confusion_matrix(y_val, y_pred)\n",
        "print(\"\\nConfusion Matrix:\\n\", cm)\n",
        "\n",
        "# ROC Curve (uses matplotlib; no style or color specified)\n",
        "RocCurveDisplay.from_predictions(y_val, y_proba)\n",
        "plt.title(\"ROC Curve\")\n",
        "plt.show()\n"
      ],
      "metadata": {
        "id": "W2Qn0Sl5SwNt",
        "outputId": "b31c5f9b-891e-4e1c-f5c5-3f0eb248d259",
        "colab": {
          "base_uri": "https://localhost:8080/",
          "height": 819
        }
      },
      "execution_count": 7,
      "outputs": [
        {
          "output_type": "stream",
          "name": "stdout",
          "text": [
            "Accuracy : 0.844\n",
            "Precision: 0.841\n",
            "Recall   : 0.806\n",
            "F1-score : 0.823\n",
            "ROC AUC  : 0.866\n",
            "\n",
            "Classification Report:\n",
            "               precision    recall  f1-score   support\n",
            "\n",
            "           0       0.85      0.88      0.86        88\n",
            "           1       0.84      0.81      0.82        72\n",
            "\n",
            "    accuracy                           0.84       160\n",
            "   macro avg       0.84      0.84      0.84       160\n",
            "weighted avg       0.84      0.84      0.84       160\n",
            "\n",
            "\n",
            "Confusion Matrix:\n",
            " [[77 11]\n",
            " [14 58]]\n"
          ]
        },
        {
          "output_type": "display_data",
          "data": {
            "text/plain": [
              "<Figure size 640x480 with 1 Axes>"
            ],
            "image/png": "[encoded data removed]"
          },
          "metadata": {}
        }
      ]
    },
    {
      "cell_type": "code",
      "source": [
        "# Basic EDA\n",
        "print(df.describe().T)\n",
        "print(\"\\nClass distribution:\\n\", df['target'].value_counts(normalize=True).rename('proportion'))\n"
      ],
      "metadata": {
        "id": "juXa-9SyZNmC",
        "outputId": "5c621c3a-d0b9-401d-a4a2-8df94688e0e4",
        "colab": {
          "base_uri": "https://localhost:8080/"
        }
      },
      "execution_count": 8,
      "outputs": [
        {
          "output_type": "stream",
          "name": "stdout",
          "text": [
            "        count      mean       std        min       25%       50%       75%  \\\n",
            "f1      800.0  0.063440  2.169906  -6.795297 -1.418810  0.273335  1.671035   \n",
            "f2      800.0 -0.003246  2.183722  -6.655978 -1.574302 -0.053776  1.529525   \n",
            "f3      800.0  0.643789  1.880851  -4.332311 -0.626606  0.653578  1.964293   \n",
            "f4      800.0 -0.762459  1.833508  -5.443321 -1.970739 -0.776120  0.385978   \n",
            "f5      800.0 -0.029156  1.941277  -6.889304 -1.354848  0.084058  1.269699   \n",
            "f6      800.0 -0.035964  0.990049  -2.467159 -0.728794 -0.084972  0.650251   \n",
            "f7      800.0  0.099234  2.136929  -6.367211 -1.184647  0.366256  1.526186   \n",
            "f8      800.0  0.442011  3.344602 -10.637364 -1.561974  0.327103  2.349404   \n",
            "f9      800.0  0.706821  1.952545  -4.463133 -0.644132  0.752426  1.971816   \n",
            "f10     800.0  1.463012  4.109045 -10.039857 -1.602128  1.360284  4.333170   \n",
            "f11     800.0  0.505858  1.827922  -4.277233 -0.820524  0.531990  1.817336   \n",
            "f12     800.0  0.011642  0.993152  -2.985309 -0.636568  0.019712  0.653475   \n",
            "target  800.0  0.451250  0.497929   0.000000  0.000000  0.000000  1.000000   \n",
            "\n",
            "              max  \n",
            "f1       5.614111  \n",
            "f2       7.500864  \n",
            "f3       6.475741  \n",
            "f4       4.991166  \n",
            "f5       6.318779  \n",
            "f6       3.617697  \n",
            "f7       5.397686  \n",
            "f8      12.661193  \n",
            "f9       8.964892  \n",
            "f10     15.165410  \n",
            "f11      6.767845  \n",
            "f12      3.043868  \n",
            "target   1.000000  \n",
            "\n",
            "Class distribution:\n",
            " target\n",
            "0    0.54875\n",
            "1    0.45125\n",
            "Name: proportion, dtype: float64\n"
          ]
        }
      ]
    },
    {
      "cell_type": "code",
      "source": [
        "# Train/Validation split\n",
        "X = df.drop(columns=['target'])\n",
        "y = df['target']\n",
        "\n",
        "X_train, X_val, y_train, y_val = train_test_split(\n",
        "    X, y, test_size=0.2, random_state=123, stratify=y\n",
        ")\n",
        "\n",
        "X_train.shape, X_val.shape\n",
        "\n"
      ],
      "metadata": {
        "id": "XSmnZOKnZQJw",
        "outputId": "46cd5c44-1493-446e-b4fb-a0f619c71b1c",
        "colab": {
          "base_uri": "https://localhost:8080/"
        }
      },
      "execution_count": 9,
      "outputs": [
        {
          "output_type": "execute_result",
          "data": {
            "text/plain": [
              "((640, 12), (160, 12))"
            ]
          },
          "metadata": {},
          "execution_count": 9
        }
      ]
    },
    {
      "cell_type": "code",
      "source": [
        "from sklearn.preprocessing import StandardScaler\n",
        "from sklearn.neighbors import KNeighborsClassifier\n",
        "from sklearn.pipeline import Pipeline\n",
        "\n",
        "pipe = Pipeline([\n",
        "    (\"scaler\", StandardScaler()),\n",
        "    (\"clf\", KNeighborsClassifier(n_neighbors=7))\n",
        "])\n",
        "\n",
        "pipe.fit(X_train, y_train)\n",
        "y_pred = pipe.predict(X_val)\n",
        "y_proba = pipe.predict_proba(X_val)[:, 1]\n"
      ],
      "metadata": {
        "id": "boqyI7ykZSRO"
      },
      "execution_count": 10,
      "outputs": []
    },
    {
      "cell_type": "code",
      "source": [
        "acc = accuracy_score(y_val, y_pred)\n",
        "prec = precision_score(y_val, y_pred)\n",
        "rec = recall_score(y_val, y_pred)\n",
        "f1 = f1_score(y_val, y_pred)\n",
        "auc = roc_auc_score(y_val, y_proba)\n",
        "\n",
        "print(f\"Accuracy : {acc:.3f}\")\n",
        "print(f\"Precision: {prec:.3f}\")\n",
        "print(f\"Recall   : {rec:.3f}\")\n",
        "print(f\"F1-score : {f1:.3f}\")\n",
        "print(f\"ROC AUC  : {auc:.3f}\")\n",
        "\n",
        "print(\"\\nClassification Report:\\n\", classification_report(y_val, y_pred))\n",
        "\n",
        "# Confusion matrix\n",
        "cm = confusion_matrix(y_val, y_pred)\n",
        "print(\"\\nConfusion Matrix:\\n\", cm)\n",
        "\n",
        "# ROC Curve (uses matplotlib; no style or color specified)\n",
        "RocCurveDisplay.from_predictions(y_val, y_proba)\n",
        "plt.title(\"ROC Curve\")\n",
        "plt.show()\n"
      ],
      "metadata": {
        "id": "254XIm_-ZV0R",
        "outputId": "e3563667-17b9-447c-b3fa-48bdc9b59cb8",
        "colab": {
          "base_uri": "https://localhost:8080/",
          "height": 819
        }
      },
      "execution_count": 11,
      "outputs": [
        {
          "output_type": "stream",
          "name": "stdout",
          "text": [
            "Accuracy : 0.944\n",
            "Precision: 0.944\n",
            "Recall   : 0.931\n",
            "F1-score : 0.937\n",
            "ROC AUC  : 0.982\n",
            "\n",
            "Classification Report:\n",
            "               precision    recall  f1-score   support\n",
            "\n",
            "           0       0.94      0.95      0.95        88\n",
            "           1       0.94      0.93      0.94        72\n",
            "\n",
            "    accuracy                           0.94       160\n",
            "   macro avg       0.94      0.94      0.94       160\n",
            "weighted avg       0.94      0.94      0.94       160\n",
            "\n",
            "\n",
            "Confusion Matrix:\n",
            " [[84  4]\n",
            " [ 5 67]]\n"
          ]
        },
        {
          "output_type": "display_data",
          "data": {
            "text/plain": [
              "<Figure size 640x480 with 1 Axes>"
            ],
            "image/png": "[encoded data removed]"
          },
          "metadata": {}
        }
      ]
    },
    {
      "cell_type": "code",
      "source": [],
      "metadata": {
        "id": "fs_7pzZCo7me"
      },
      "execution_count": null,
      "outputs": []
    }
  ],
  "metadata": {
    "colab": {
      "name": "Welcome To Colab",
      "provenance": [],
      "include_colab_link": true
    },
    "kernelspec": {
      "display_name": "Python 3",
      "name": "python3"
    }
  },
  "nbformat": 4,
  "nbformat_minor": 0
}